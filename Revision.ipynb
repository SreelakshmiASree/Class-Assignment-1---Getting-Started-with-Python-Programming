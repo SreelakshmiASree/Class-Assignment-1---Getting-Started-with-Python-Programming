{
  "nbformat": 4,
  "nbformat_minor": 0,
  "metadata": {
    "colab": {
      "name": "Revision.ipynb",
      "provenance": [],
      "authorship_tag": "ABX9TyPlbCMFadVCmApvuvoOCDoi",
      "include_colab_link": true
    },
    "kernelspec": {
      "name": "python3",
      "display_name": "Python 3"
    }
  },
  "cells": [
    {
      "cell_type": "markdown",
      "metadata": {
        "id": "view-in-github",
        "colab_type": "text"
      },
      "source": [
        "<a href=\"https://colab.research.google.com/github/SreelakshmiASree/Class-Assignment-1---Getting-Started-with-Python-Programming/blob/master/Revision.ipynb\" target=\"_parent\"><img src=\"https://colab.research.google.com/assets/colab-badge.svg\" alt=\"Open In Colab\"/></a>"
      ]
    },
    {
      "cell_type": "code",
      "metadata": {
        "colab": {
          "base_uri": "https://localhost:8080/"
        },
        "id": "dsQn0UHCQcyC",
        "outputId": "0626826b-b7b0-42fb-e344-d9fb7d11d3ff"
      },
      "source": [
        " b=[]\n",
        "for i in range(0,4):\n",
        "    a=int(input(\"Number: \"))\n",
        "    b.append(a)\n",
        "sum1=0\n",
        "sum2=0\n",
        "avg1=0\n",
        "avg2=0\n",
        "count1=0\n",
        "count2=0\n",
        "for j in b:\n",
        "    if(j>0):\n",
        "      \n",
        "      sum1=sum1+j\n",
        "      count1=count1+1\n",
        " \n",
        "    else:\n",
        "        sum2=sum2+j\n",
        "        count2=count2+1\n",
        " \n",
        "avg1=sum1/count1\n",
        "avg2=sum2/count2\n",
        "        \n",
        "print(\"Sum of  positive numbers:\",sum1,\",Average=\",avg1)\n",
        "print(\"Sum of  Negative numbers:\",sum2,\",Average=\",avg2)"
      ],
      "execution_count": 1,
      "outputs": [
        {
          "output_type": "stream",
          "text": [
            "Number: 2\n",
            "Number: -6\n",
            "Number: 3\n",
            "Number: -1\n",
            "Sum of  positive numbers: 5 ,Average= 2.5\n",
            "Sum of  Negative numbers: -7 ,Average= -3.5\n"
          ],
          "name": "stdout"
        }
      ]
    },
    {
      "cell_type": "code",
      "metadata": {
        "colab": {
          "base_uri": "https://localhost:8080/"
        },
        "id": "7j0aC6u0RA27",
        "outputId": "b08efd14-4c32-4269-c660-cc92f519c808"
      },
      "source": [
        " string = input(\"input string:\")\n",
        "frequencies = {} \n",
        "  \n",
        "for char in string: \n",
        "   if char in frequencies: \n",
        "      frequencies[char] += 1\n",
        "   else: \n",
        "      frequencies[char] = 1\n",
        " \n",
        "print (\"Per char frequency in '{}' is :\\n {}\".format(string, str(frequencies)))"
      ],
      "execution_count": 2,
      "outputs": [
        {
          "output_type": "stream",
          "text": [
            "input string:Car\n",
            "Per char frequency in 'Car' is :\n",
            " {'C': 1, 'a': 1, 'r': 1}\n"
          ],
          "name": "stdout"
        }
      ]
    },
    {
      "cell_type": "code",
      "metadata": {
        "colab": {
          "base_uri": "https://localhost:8080/"
        },
        "id": "4SCN3n8QRJIY",
        "outputId": "6cc21e22-dec5-4fb8-9dac-dbb80db5cd02"
      },
      "source": [
        " unsorted_list =[9,6,5,9]\n",
        "sorted_list=[]\n",
        "while unsorted_list:\n",
        "     minimum = unsorted_list[0]\n",
        "     for item in unsorted_list:\n",
        "           if item < minimum:\n",
        "              minimum = item\n",
        "     sorted_list.append(minimum)\n",
        "     unsorted_list.remove(minimum)\n",
        " \n",
        "print(sorted_list)"
      ],
      "execution_count": 3,
      "outputs": [
        {
          "output_type": "stream",
          "text": [
            "[5, 6, 9, 9]\n"
          ],
          "name": "stdout"
        }
      ]
    },
    {
      "cell_type": "code",
      "metadata": {
        "colab": {
          "base_uri": "https://localhost:8080/"
        },
        "id": "1OWPafLMRQ58",
        "outputId": "e8b83779-46bd-4699-cffc-8786ba9a140d"
      },
      "source": [
        " def isPalindrome(a):\n",
        " \n",
        "    return a == a[::-1]\n",
        " \n",
        "a=input(\"enter the string :\")\n",
        " \n",
        "j =  isPalindrome(a)\n",
        " \n",
        " \n",
        "if j:\n",
        " \n",
        "    print(\"Yes, it is palindrome\")\n",
        " \n",
        "else:\n",
        " \n",
        "    print(\"No, it is not palindrome\")"
      ],
      "execution_count": 5,
      "outputs": [
        {
          "output_type": "stream",
          "text": [
            "enter the string :malayalam\n",
            "Yes, it is palindrome\n"
          ],
          "name": "stdout"
        }
      ]
    },
    {
      "cell_type": "code",
      "metadata": {
        "colab": {
          "base_uri": "https://localhost:8080/"
        },
        "id": "MWZNjPc_Rdfn",
        "outputId": "00a8a71b-9419-4be3-8eef-bf36d2335fcb"
      },
      "source": [
        " import math\n",
        "def fact(a):\n",
        "   if a<=1:\n",
        "     return 1\n",
        "   else:\n",
        "     return a* fact(a-1)\n",
        " \n",
        "step=int(input(\"no of terms :\"))\n",
        "x=int(input(\"enter the value :\"))\n",
        "sum=0\n",
        "for i in range(step+1):\n",
        "   sum+=(math.pow(-1,i)*math.pow(x,2*i+1))/fact(2*i+1)\n",
        "print(\"The result of sin(\",step,\")\",sum)"
      ],
      "execution_count": 6,
      "outputs": [
        {
          "output_type": "stream",
          "text": [
            "no of terms :3\n",
            "enter the value :1\n",
            "The result of sin( 3 ) 0.841468253968254\n"
          ],
          "name": "stdout"
        }
      ]
    },
    {
      "cell_type": "code",
      "metadata": {
        "colab": {
          "base_uri": "https://localhost:8080/"
        },
        "id": "a3fVxS_KRmPz",
        "outputId": "89e6fe03-ea87-4c00-8ad9-fc0a6c6b27d6"
      },
      "source": [
        " password=input(\"Enter the password :\")\n",
        "upper=False\n",
        "lower=False\n",
        "number=False\n",
        "special=False\n",
        "num=['0','1','2','3','4','5','6','7','8','9']\n",
        " \n",
        "if len(password)<6:\n",
        "   print(\"Password length is too short, minimum length should 6\")\n",
        "else:\n",
        "   for i in password:\n",
        "      if i.isupper()==True:\n",
        "         upper=True\n",
        "      elif i in num:\n",
        "         number=True\n",
        "      elif i.islower()==True:\n",
        "         lower=True\n",
        "      elif i==\"$\" or i==\"#\" or i==\"@\":\n",
        "         special=True\n",
        "if upper==True and lower==True and number==True and special==True:\n",
        "   print(\"Password accepted\")\n",
        "else:\n",
        "   print(\"Password not accepted\")"
      ],
      "execution_count": 7,
      "outputs": [
        {
          "output_type": "stream",
          "text": [
            "Enter the password :SReel@01\n",
            "Password accepted\n"
          ],
          "name": "stdout"
        }
      ]
    }
  ]
}