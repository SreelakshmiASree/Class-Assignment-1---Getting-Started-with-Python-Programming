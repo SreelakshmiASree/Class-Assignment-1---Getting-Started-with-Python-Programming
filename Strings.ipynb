{
  "nbformat": 4,
  "nbformat_minor": 0,
  "metadata": {
    "colab": {
      "name": "Strings.ipynb",
      "provenance": [],
      "authorship_tag": "ABX9TyPtF7M1Z20r+MKY+9YK57XF",
      "include_colab_link": true
    },
    "kernelspec": {
      "name": "python3",
      "display_name": "Python 3"
    }
  },
  "cells": [
    {
      "cell_type": "markdown",
      "metadata": {
        "id": "view-in-github",
        "colab_type": "text"
      },
      "source": [
        "<a href=\"https://colab.research.google.com/github/SreelakshmiASree/Class-Assignment-1---Getting-Started-with-Python-Programming/blob/master/Strings.ipynb\" target=\"_parent\"><img src=\"https://colab.research.google.com/assets/colab-badge.svg\" alt=\"Open In Colab\"/></a>"
      ]
    },
    {
      "cell_type": "code",
      "metadata": {
        "id": "hUaVieUufKfw"
      },
      "source": [
        "def CountLetters (str,letter):\n",
        "     count=0\n",
        "     index=0\n",
        "     while index<len(str):\n",
        "        if letter==str[index]:\n",
        "           count=count+1\n",
        "        index=index+1\n",
        "     return count"
      ],
      "execution_count": null,
      "outputs": []
    },
    {
      "cell_type": "code",
      "metadata": {
        "id": "sSD1mn-vf9wq",
        "outputId": "f1dff5a8-d554-445b-9114-f9986a03bd85",
        "colab": {
          "base_uri": "https://localhost:8080/",
          "height": 34
        }
      },
      "source": [
        "CountLetters (\"Orange\",\"n\")"
      ],
      "execution_count": null,
      "outputs": [
        {
          "output_type": "execute_result",
          "data": {
            "text/plain": [
              "1"
            ]
          },
          "metadata": {
            "tags": []
          },
          "execution_count": 19
        }
      ]
    },
    {
      "cell_type": "code",
      "metadata": {
        "id": "b1WwxDy7gNKs",
        "outputId": "36026a11-b29c-4d11-e5eb-35a2da6c1a7e",
        "colab": {
          "base_uri": "https://localhost:8080/",
          "height": 34
        }
      },
      "source": [
        " CountLetters(\"Malayalam\",\"a\")"
      ],
      "execution_count": null,
      "outputs": [
        {
          "output_type": "execute_result",
          "data": {
            "text/plain": [
              "4"
            ]
          },
          "metadata": {
            "tags": []
          },
          "execution_count": 20
        }
      ]
    },
    {
      "cell_type": "code",
      "metadata": {
        "id": "Rc676GvngZso"
      },
      "source": [
        "def find (str,ch,index):\n",
        " #\n",
        " while index<len(str):\n",
        "   if str[index]==ch:\n",
        "     return index\n",
        "   index = index +1\n",
        "   return -1"
      ],
      "execution_count": null,
      "outputs": []
    },
    {
      "cell_type": "code",
      "metadata": {
        "id": "Relj5AYhhgkR",
        "outputId": "469146bc-90b4-4ae1-8cc1-9b0f5619e02b",
        "colab": {
          "base_uri": "https://localhost:8080/",
          "height": 34
        }
      },
      "source": [
        "find('Apple','p',3)"
      ],
      "execution_count": null,
      "outputs": [
        {
          "output_type": "execute_result",
          "data": {
            "text/plain": [
              "-1"
            ]
          },
          "metadata": {
            "tags": []
          },
          "execution_count": 29
        }
      ]
    }
  ]
}