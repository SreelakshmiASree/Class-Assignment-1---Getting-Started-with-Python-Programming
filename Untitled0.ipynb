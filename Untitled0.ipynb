{
  "nbformat": 4,
  "nbformat_minor": 0,
  "metadata": {
    "colab": {
      "name": "Untitled0.ipynb",
      "provenance": [],
      "authorship_tag": "ABX9TyNwkH2I0IVOEVFLWzNF3Wqb",
      "include_colab_link": true
    },
    "kernelspec": {
      "name": "python3",
      "display_name": "Python 3"
    }
  },
  "cells": [
    {
      "cell_type": "markdown",
      "metadata": {
        "id": "view-in-github",
        "colab_type": "text"
      },
      "source": [
        "<a href=\"https://colab.research.google.com/github/SreelakshmiASree/Class-Assignment-1---Getting-Started-with-Python-Programming/blob/master/Untitled0.ipynb\" target=\"_parent\"><img src=\"https://colab.research.google.com/assets/colab-badge.svg\" alt=\"Open In Colab\"/></a>"
      ]
    },
    {
      "cell_type": "code",
      "metadata": {
        "id": "LqujhnaFh-oR",
        "outputId": "766ac666-4920-431e-95e1-5668e3fc064b",
        "colab": {
          "base_uri": "https://localhost:8080/",
          "height": 87
        }
      },
      "source": [
        "a=float(input(\"Enter the first number\"))\n",
        "b=float(input(\"enter the second number\"))\n",
        "c=float(input(\"enter the third number\"))\n",
        "if(a>b)&(a>c):\n",
        " print (a,\"is the largest number\")\n",
        "elif(b>=a)&(b>=c):\n",
        " print (\"Largest number is\", b)\n",
        "else:\n",
        " print (\"Largest number is \", c)"
      ],
      "execution_count": 23,
      "outputs": [
        {
          "output_type": "stream",
          "text": [
            "Enter the first number5\n",
            "enter the second number6\n",
            "enter the third number7\n",
            "Largest number is  7.0\n"
          ],
          "name": "stdout"
        }
      ]
    }
  ]
}