{
  "nbformat": 4,
  "nbformat_minor": 0,
  "metadata": {
    "colab": {
      "name": "Assignment1.ipynb",
      "provenance": [],
      "authorship_tag": "ABX9TyM+pzFzGWtJmfGI8ibsAxiP",
      "include_colab_link": true
    },
    "kernelspec": {
      "name": "python3",
      "display_name": "Python 3"
    }
  },
  "cells": [
    {
      "cell_type": "markdown",
      "metadata": {
        "id": "view-in-github",
        "colab_type": "text"
      },
      "source": [
        "<a href=\"https://colab.research.google.com/github/SreelakshmiASree/Class-Assignment-1---Getting-Started-with-Python-Programming/blob/master/Assignment1.ipynb\" target=\"_parent\"><img src=\"https://colab.research.google.com/assets/colab-badge.svg\" alt=\"Open In Colab\"/></a>"
      ]
    },
    {
      "cell_type": "markdown",
      "metadata": {
        "id": "dHfUTXg1AcCJ",
        "colab_type": "text"
      },
      "source": [
        " Qn 2"
      ]
    },
    {
      "cell_type": "code",
      "metadata": {
        "id": "ckdQFGYyBX67",
        "colab_type": "code",
        "colab": {
          "base_uri": "https://localhost:8080/",
          "height": 68
        },
        "outputId": "88ed8aa9-65c6-4e2b-e9bb-fa2c1fac7235"
      },
      "source": [
        "Name =\"Sreelakshmi A\"\n",
        "Address=\"Kuthuparamba kannur\"\n",
        "Telephone_no=\"04902361013\"\n",
        "print(\"Name:\"+Name+\"\\n\",\"Address:\"+Address+\"\\n\",\"Telephone_no:\"+Telephone_no)"
      ],
      "execution_count": null,
      "outputs": [
        {
          "output_type": "stream",
          "text": [
            "Name:Sreelakshmi A\n",
            " Address:Kuthuparamba kannur\n",
            " Telephone_no:04902361013\n"
          ],
          "name": "stdout"
        }
      ]
    },
    {
      "cell_type": "markdown",
      "metadata": {
        "id": "yH-J2-bhEP8X",
        "colab_type": "text"
      },
      "source": [
        "Qn 3"
      ]
    },
    {
      "cell_type": "code",
      "metadata": {
        "id": "aIJjQV2EER3j",
        "colab_type": "code",
        "colab": {
          "base_uri": "https://localhost:8080/",
          "height": 34
        },
        "outputId": "ea1a6548-28c3-45d1-fc92-24d932016e27"
      },
      "source": [
        "print(\"Your name is\",Name)\n",
        "Name=\"Sreelakshmi A\""
      ],
      "execution_count": null,
      "outputs": [
        {
          "output_type": "stream",
          "text": [
            "Your name is Sreelakshmi A\n"
          ],
          "name": "stdout"
        }
      ]
    },
    {
      "cell_type": "markdown",
      "metadata": {
        "id": "ELQXNWMUE9Bz",
        "colab_type": "text"
      },
      "source": [
        "Question 4"
      ]
    },
    {
      "cell_type": "code",
      "metadata": {
        "id": "TPG0wc_YE_LN",
        "colab_type": "code",
        "colab": {
          "base_uri": "https://localhost:8080/",
          "height": 70
        },
        "outputId": "5f2fcdb2-ae17-463e-815c-c3ba395a301a"
      },
      "source": [
        "#area of the rectangle\n",
        "Width=float (input(\"Enter the width:\"))\n",
        "Height=float(input(\"Enter the height:\"))\n",
        "area=Width+Height\n",
        "print(\"the area is\",area,\"Square units\")"
      ],
      "execution_count": 10,
      "outputs": [
        {
          "output_type": "stream",
          "text": [
            "Enter the width:3.5\n",
            "Enter the height:2.5\n",
            "the area is 6.0 Square units\n"
          ],
          "name": "stdout"
        }
      ]
    },
    {
      "cell_type": "markdown",
      "metadata": {
        "id": "t3SL--H_GMkH",
        "colab_type": "text"
      },
      "source": [
        "Question 5"
      ]
    },
    {
      "cell_type": "code",
      "metadata": {
        "id": "DUF88W1_GN_O",
        "colab_type": "code",
        "colab": {
          "base_uri": "https://localhost:8080/",
          "height": 70
        },
        "outputId": "db0313ce-3c33-4059-96ca-7149d6cb20ba"
      },
      "source": [
        "#area of the triangle\n",
        "Base=float(input(\"Enter the baselength:\"))\n",
        "Height=float(input(\"Enter the height:\"))\n",
        "area= .5*Base*Height\n",
        "print(\"the area is\",area,\"Square units\")"
      ],
      "execution_count": 15,
      "outputs": [
        {
          "output_type": "stream",
          "text": [
            "Enter the baselength:2.4\n",
            "Enter the height:5\n",
            "the area is 6.0 Square units\n"
          ],
          "name": "stdout"
        }
      ]
    },
    {
      "cell_type": "markdown",
      "metadata": {
        "id": "vBVLJqr7IMhn",
        "colab_type": "text"
      },
      "source": [
        "Question 6"
      ]
    },
    {
      "cell_type": "code",
      "metadata": {
        "id": "SPYB3oCxIOIg",
        "colab_type": "code",
        "colab": {
          "base_uri": "https://localhost:8080/",
          "height": 53
        },
        "outputId": "64f28254-818a-42fc-bc39-e48c3cb8ee38"
      },
      "source": [
        "#area of the circle\n",
        "radius=float(input(\"Enter the radius:\"))\n",
        "area= 3.14*radius**2\n",
        "print(\"The area is\",area, \"Square units\")"
      ],
      "execution_count": 30,
      "outputs": [
        {
          "output_type": "stream",
          "text": [
            "Enter the radius:5\n",
            "The area is 78.5 Square units\n"
          ],
          "name": "stdout"
        }
      ]
    },
    {
      "cell_type": "markdown",
      "metadata": {
        "id": "QGiZQJ8oJQU9",
        "colab_type": "text"
      },
      "source": [
        "Question 7"
      ]
    },
    {
      "cell_type": "code",
      "metadata": {
        "id": "Dv3qUH0QJSMD",
        "colab_type": "code",
        "colab": {
          "base_uri": "https://localhost:8080/",
          "height": 110
        },
        "outputId": "9591d77f-4d6e-46ba-f3b1-591be1b8c01a"
      },
      "source": [
        "Name=input(\"Enter your name:\")\n",
        "Age=input(\"Enter your age:\")\n",
        "print(\"My name is \"+Name+\"and my age is\"+Age)"
      ],
      "execution_count": 24,
      "outputs": [
        {
          "output_type": "stream",
          "text": [
            "Enter your name:Sreelakshmi A\n",
            "Enter your age:19\n",
            "My name is Sreelakshmi Aand my age is19\n"
          ],
          "name": "stdout"
        }
      ]
    },
    {
      "cell_type": "markdown",
      "metadata": {
        "id": "1AqSDY0rKC-p",
        "colab_type": "text"
      },
      "source": [
        "Question 8"
      ]
    },
    {
      "cell_type": "code",
      "metadata": {
        "id": "eskTk1tDKEZr",
        "colab_type": "code",
        "colab": {
          "base_uri": "https://localhost:8080/",
          "height": 53
        },
        "outputId": "9d41bf1c-06f1-4218-c059-4480aedcefba"
      },
      "source": [
        "a=int(input (\"Enter a number:\"))\n",
        "a=a+1\n",
        "print(a)"
      ],
      "execution_count": 25,
      "outputs": [
        {
          "output_type": "stream",
          "text": [
            "Enter a number:6\n",
            "7\n"
          ],
          "name": "stdout"
        }
      ]
    },
    {
      "cell_type": "markdown",
      "metadata": {
        "id": "iaunNdZ5KZye",
        "colab_type": "text"
      },
      "source": [
        " Question 9"
      ]
    },
    {
      "cell_type": "code",
      "metadata": {
        "id": "Y4ohdggZKb1S",
        "colab_type": "code",
        "colab": {
          "base_uri": "https://localhost:8080/",
          "height": 113
        },
        "outputId": "be992af4-1554-4f95-a541-d9c338ecddce"
      },
      "source": [
        "Name=input(\"Enter your first name:\")\n",
        "print(Name)"
      ],
      "execution_count": 27,
      "outputs": [
        {
          "output_type": "stream",
          "text": [
            "Enter your first name:Sreelakshmi\n",
            "Sreelakshmi\n"
          ],
          "name": "stdout"
        }
      ]
    },
    {
      "cell_type": "code",
      "metadata": {
        "id": "8qtekBzFKwDH",
        "colab_type": "code",
        "colab": {}
      },
      "source": [
        ""
      ],
      "execution_count": null,
      "outputs": []
    }
  ]
}